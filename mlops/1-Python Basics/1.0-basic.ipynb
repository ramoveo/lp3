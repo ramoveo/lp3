{
  "cells": [
    {
      "cell_type": "markdown",
      "metadata": {
        "id": "xiKT3_ITEF8X"
      },
      "source": [
        "### Syntax and Semantics in Python\n",
        "Video Outline:\n",
        "- Single line Comments and multiline comments\n",
        "- Definition of Syntax and Semantics\n",
        "- Basic Syntax Rules in Python\n",
        "- Understanding Semantics in Python\n",
        "- Common Syntax Errors and How to Avoid Them\n",
        "- Practical Code Examples"
      ]
    },
    {
      "cell_type": "markdown",
      "metadata": {
        "id": "djjqtFhbEF8Z"
      },
      "source": [
        "Syntax refers to the set of rules that defines the combinations of symbols that are considered to be correctly structured programs in a language. In simpler terms, syntax is about the correct arrangement of words and symbols in a code.\n",
        "\n",
        "Semantics refers to the meaning or the interpretation of the symbols, characters, and commands in a language. It is about what the code is supposed to do when it runs."
      ]
    },
    {
      "cell_type": "code",
      "execution_count": 6,
      "metadata": {
        "id": "2SSPu8T5EF8a",
        "outputId": "1f1fae5e-e4c1-4634-9192-76c93ab1b2e8",
        "colab": {
          "base_uri": "https://localhost:8080/"
        }
      },
      "outputs": [
        {
          "output_type": "stream",
          "name": "stdout",
          "text": [
            "Ra\n",
            "Hul\n"
          ]
        }
      ],
      "source": [
        "## Basic Syntax Rules In Python\n",
        "## Case sensitivity- Python is case sensitive\n",
        "\n",
        "name=\"Ra\"\n",
        "Name=\"Hul\"\n",
        "\n",
        "print(name)\n",
        "print(Name)\n"
      ]
    },
    {
      "cell_type": "markdown",
      "metadata": {
        "id": "SLcrkONZEF8c"
      },
      "source": [
        "### Indentation\n",
        "Indentation in Python is used to define the structure and hierarchy of the code. Unlike many other programming languages that use braces {} to delimit blocks of code, Python uses indentation to determine the grouping of statements. This means that all the statements within a block must be indented at the same level."
      ]
    },
    {
      "cell_type": "code",
      "execution_count": 3,
      "metadata": {
        "id": "VmsKS3J5EF8c",
        "outputId": "43699017-6ab6-44a7-a7e9-9e37dbf8b396",
        "colab": {
          "base_uri": "https://localhost:8080/"
        }
      },
      "outputs": [
        {
          "output_type": "stream",
          "name": "stdout",
          "text": [
            "31\n",
            "31\n"
          ]
        }
      ],
      "source": [
        "## Indentation\n",
        "## Python uses indentation to define blocks of code. Consistent use of spaces (commonly 4) or a tab is required.\n",
        "\n",
        "age=31\n",
        "if age>30:\n",
        "    print(age)\n",
        "\n",
        "print(age)\n"
      ]
    },
    {
      "cell_type": "code",
      "execution_count": null,
      "metadata": {
        "id": "FU5inS_3EF8d",
        "outputId": "60dc93cc-6d73-4b5d-b432-6418b133570b"
      },
      "outputs": [
        {
          "name": "stdout",
          "output_type": "stream",
          "text": [
            "Hello World\n"
          ]
        }
      ],
      "source": [
        "## This is a single line comment\n",
        "print(\"Hello World\")"
      ]
    },
    {
      "cell_type": "code",
      "execution_count": null,
      "metadata": {
        "id": "PdbkdW7OEF8e",
        "outputId": "16fbba83-ec63-4f2f-c84b-1d7637af119f"
      },
      "outputs": [
        {
          "name": "stdout",
          "output_type": "stream",
          "text": [
            "43\n"
          ]
        }
      ],
      "source": [
        "## Line Continuation\n",
        "##Use a backslash (\\) to continue a statement to the next line\n",
        "\n",
        "total=1+2+3+4+5+6+7+\\\n",
        "4+5+6\n",
        "\n",
        "print(total)\n"
      ]
    },
    {
      "cell_type": "code",
      "execution_count": null,
      "metadata": {
        "id": "jurmVESmEF8e",
        "outputId": "9717230c-fd49-49c3-868b-4a250c45c7a6"
      },
      "outputs": [
        {
          "name": "stdout",
          "output_type": "stream",
          "text": [
            "15\n"
          ]
        }
      ],
      "source": [
        "## Multiple Statements on a single line\n",
        "x=5;y=10;z=x+y\n",
        "print(z)"
      ]
    },
    {
      "cell_type": "code",
      "execution_count": null,
      "metadata": {
        "id": "f52NoG-fEF8f"
      },
      "outputs": [],
      "source": [
        "##Understand  Semnatics In Python\n",
        "# variable assignment\n",
        "age=32 ##age is an integer\n",
        "name=\"Krish\" ##name is a string"
      ]
    },
    {
      "cell_type": "code",
      "execution_count": null,
      "metadata": {
        "id": "_FG83hraEF8g",
        "outputId": "b41c0190-d02e-4d6b-cf77-eaedcd64c27a"
      },
      "outputs": [
        {
          "data": {
            "text/plain": [
              "int"
            ]
          },
          "execution_count": 10,
          "metadata": {},
          "output_type": "execute_result"
        }
      ],
      "source": [
        "\n",
        "\n",
        "type(age)"
      ]
    },
    {
      "cell_type": "code",
      "execution_count": null,
      "metadata": {
        "id": "q5k048DdEF8h",
        "outputId": "5d3fe93b-a14d-481c-9a1f-20271158b140"
      },
      "outputs": [
        {
          "data": {
            "text/plain": [
              "str"
            ]
          },
          "execution_count": 9,
          "metadata": {},
          "output_type": "execute_result"
        }
      ],
      "source": [
        "type(name)"
      ]
    },
    {
      "cell_type": "code",
      "execution_count": null,
      "metadata": {
        "id": "Y74E4_PIEF8h",
        "outputId": "b229b61b-988f-447f-d5bd-d16c9861b394"
      },
      "outputs": [
        {
          "name": "stdout",
          "output_type": "stream",
          "text": [
            "<class 'int'>\n",
            "<class 'str'>\n"
          ]
        }
      ],
      "source": [
        "## Type Inference\n",
        "variable=10\n",
        "print(type(variable))\n",
        "variable=\"Krish\"\n",
        "print(type(variable))"
      ]
    },
    {
      "cell_type": "code",
      "execution_count": null,
      "metadata": {
        "id": "qJ6E1KISEF8i",
        "outputId": "936be782-6345-428f-c1f9-a78ba900236a"
      },
      "outputs": [
        {
          "name": "stdout",
          "output_type": "stream",
          "text": [
            "32\n"
          ]
        }
      ],
      "source": [
        "age=32\n",
        "if age>30:\n",
        "    print(age)"
      ]
    },
    {
      "cell_type": "code",
      "execution_count": null,
      "metadata": {
        "id": "xNgVoENPEF8i",
        "outputId": "e55971dc-430e-4712-ba2d-e8c6c3c15a0a"
      },
      "outputs": [
        {
          "ename": "NameError",
          "evalue": "name 'b' is not defined",
          "output_type": "error",
          "traceback": [
            "\u001b[1;31m---------------------------------------------------------------------------\u001b[0m",
            "\u001b[1;31mNameError\u001b[0m                                 Traceback (most recent call last)",
            "Cell \u001b[1;32mIn[15], line 1\u001b[0m\n\u001b[1;32m----> 1\u001b[0m a\u001b[38;5;241m=\u001b[39m\u001b[43mb\u001b[49m\n",
            "\u001b[1;31mNameError\u001b[0m: name 'b' is not defined"
          ]
        }
      ],
      "source": [
        "## Name Error\n",
        "a=b"
      ]
    },
    {
      "cell_type": "code",
      "execution_count": null,
      "metadata": {
        "id": "cG2pVHR1EF8j",
        "outputId": "d11b66cc-7e08-4733-c5d6-ab3ff2d10911"
      },
      "outputs": [
        {
          "name": "stdout",
          "output_type": "stream",
          "text": [
            "Correct Indentation\n",
            "This will print\n",
            "Outside the if block\n"
          ]
        }
      ],
      "source": [
        "## Code exmaples of indentation\n",
        "if True:\n",
        "    print(\"Correct Indentation\")\n",
        "    if False:\n",
        "        print(\"This ont print\")\n",
        "    print(\"This will print\")\n",
        "print(\"Outside the if block\")"
      ]
    },
    {
      "cell_type": "markdown",
      "metadata": {
        "id": "mVq313qZEF8j"
      },
      "source": [
        "### Conclusion:\n",
        "Understanding the syntax and semantics of Python is crucial for writing correct and meaningful programs. Syntax ensures the code is properly structured, while semantics ensures the code behaves as expected. Mastering these concepts will help in writing efficient and error-free Python code."
      ]
    },
    {
      "cell_type": "markdown",
      "metadata": {
        "id": "0qbEW6R2EF8k"
      },
      "source": []
    }
  ],
  "metadata": {
    "kernelspec": {
      "display_name": "Python 3",
      "language": "python",
      "name": "python3"
    },
    "language_info": {
      "codemirror_mode": {
        "name": "ipython",
        "version": 3
      },
      "file_extension": ".py",
      "mimetype": "text/x-python",
      "name": "python",
      "nbconvert_exporter": "python",
      "pygments_lexer": "ipython3",
      "version": "3.12.0"
    },
    "colab": {
      "provenance": []
    }
  },
  "nbformat": 4,
  "nbformat_minor": 0
}